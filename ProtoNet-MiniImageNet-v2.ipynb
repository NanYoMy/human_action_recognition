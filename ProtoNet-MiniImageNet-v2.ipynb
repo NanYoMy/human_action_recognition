{
 "cells": [
  {
   "cell_type": "code",
   "execution_count": 1,
   "metadata": {},
   "outputs": [
    {
     "name": "stderr",
     "output_type": "stream",
     "text": [
      "/opt/anaconda3/lib/python3.6/importlib/_bootstrap.py:219: RuntimeWarning: compiletime version 3.5 of module 'tensorflow.python.framework.fast_tensor_util' does not match runtime version 3.6\n",
      "  return f(*args, **kwds)\n",
      "/opt/anaconda3/lib/python3.6/site-packages/h5py/__init__.py:36: FutureWarning: Conversion of the second argument of issubdtype from `float` to `np.floating` is deprecated. In future, it will be treated as `np.float64 == np.dtype(float).type`.\n",
      "  from ._conv import register_converters as _register_converters\n"
     ]
    }
   ],
   "source": [
    "%matplotlib inline\n",
    "from __future__ import print_function\n",
    "from PIL import Image\n",
    "import numpy as np\n",
    "import tensorflow as tf\n",
    "import os\n",
    "import glob\n",
    "import matplotlib.pyplot as plt"
   ]
  },
  {
   "cell_type": "code",
   "execution_count": 2,
   "metadata": {
    "collapsed": true
   },
   "outputs": [],
   "source": [
    "def conv_block(inputs, out_channels, name='conv'):\n",
    "    with tf.variable_scope(name):\n",
    "        conv = tf.layers.conv2d(inputs, out_channels, kernel_size=3, padding='SAME')\n",
    "        conv = tf.contrib.layers.batch_norm(conv, updates_collections=None, decay=0.99, scale=True, center=True)\n",
    "        conv = tf.nn.relu(conv)\n",
    "        conv = tf.contrib.layers.max_pool2d(conv, 2)\n",
    "        return conv"
   ]
  },
  {
   "cell_type": "code",
   "execution_count": 3,
   "metadata": {
    "collapsed": true
   },
   "outputs": [],
   "source": [
    "def encoder(x, h_dim, z_dim, reuse=False):\n",
    "    with tf.variable_scope('encoder', reuse=reuse):\n",
    "        net = conv_block(x, h_dim, name='conv_1')\n",
    "        net = conv_block(net, h_dim, name='conv_2')\n",
    "        net = conv_block(net, h_dim, name='conv_3')\n",
    "        net = conv_block(net, z_dim, name='conv_4')\n",
    "        net = tf.contrib.layers.flatten(net)\n",
    "        return net"
   ]
  },
  {
   "cell_type": "code",
   "execution_count": 4,
   "metadata": {
    "collapsed": true
   },
   "outputs": [],
   "source": [
    "def euclidean_distance(a, b):\n",
    "    # a.shape = N x D\n",
    "    # b.shape = M x D\n",
    "    N, D = tf.shape(a)[0], tf.shape(a)[1]\n",
    "    M = tf.shape(b)[0]\n",
    "    a = tf.tile(tf.expand_dims(a, axis=1), (1, M, 1))\n",
    "    b = tf.tile(tf.expand_dims(b, axis=0), (N, 1, 1))\n",
    "    return tf.reduce_mean(tf.square(a - b), axis=2)"
   ]
  },
  {
   "cell_type": "code",
   "execution_count": 5,
   "metadata": {
    "collapsed": true
   },
   "outputs": [],
   "source": [
    "n_epochs = 100\n",
    "n_episodes = 100\n",
    "n_way = 20\n",
    "n_shot = 5\n",
    "n_query = 15\n",
    "n_examples = 350\n",
    "im_width, im_height, channels = 84, 84, 3\n",
    "h_dim = 64\n",
    "z_dim = 64"
   ]
  },
  {
   "cell_type": "code",
   "execution_count": 6,
   "metadata": {},
   "outputs": [
    {
     "name": "stdout",
     "output_type": "stream",
     "text": [
      "(64, 350, 84, 84, 3)\n"
     ]
    }
   ],
   "source": [
    "# Load Train Dataset\n",
    "train_dataset = np.load('mini-imagenet-train.npy')\n",
    "n_classes = train_dataset.shape[0]\n",
    "print(train_dataset.shape)"
   ]
  },
  {
   "cell_type": "code",
   "execution_count": 7,
   "metadata": {
    "collapsed": true
   },
   "outputs": [],
   "source": [
    "x = tf.placeholder(tf.float32, [None, None, im_height, im_width, channels])\n",
    "q = tf.placeholder(tf.float32, [None, None, im_height, im_width, channels])\n",
    "x_shape = tf.shape(x)\n",
    "q_shape = tf.shape(q)\n",
    "num_classes, num_support = x_shape[0], x_shape[1]\n",
    "num_queries = q_shape[1]\n",
    "y = tf.placeholder(tf.int64, [None, None])\n",
    "y_one_hot = tf.one_hot(y, depth=num_classes)\n",
    "emb_in = encoder(tf.reshape(x, [num_classes * num_support, im_height, im_width, channels]), h_dim, z_dim)\n",
    "emb_dim = tf.shape(emb_in)[-1]\n",
    "emb_x = tf.reduce_mean(tf.reshape(emb_in, [num_classes, num_support, emb_dim]), axis=1)\n",
    "emb_q = encoder(tf.reshape(q, [num_classes * num_queries, im_height, im_width, channels]), h_dim, z_dim, reuse=True)\n",
    "dists = euclidean_distance(emb_q, emb_x)\n",
    "log_p_y = tf.reshape(tf.nn.log_softmax(-dists), [num_classes, num_queries, -1])\n",
    "ce_loss = -tf.reduce_mean(tf.reshape(tf.reduce_sum(tf.multiply(y_one_hot, log_p_y), axis=-1), [-1]))\n",
    "acc = tf.reduce_mean(tf.to_float(tf.equal(tf.argmax(log_p_y, axis=-1), y)))"
   ]
  },
  {
   "cell_type": "code",
   "execution_count": 8,
   "metadata": {
    "collapsed": true
   },
   "outputs": [],
   "source": [
    "train_op = tf.train.AdamOptimizer().minimize(ce_loss)"
   ]
  },
  {
   "cell_type": "code",
   "execution_count": 9,
   "metadata": {
    "collapsed": true
   },
   "outputs": [],
   "source": [
    "sess = tf.InteractiveSession()\n",
    "init_op = tf.global_variables_initializer()\n",
    "sess.run(init_op)"
   ]
  },
  {
   "cell_type": "code",
   "execution_count": 10,
   "metadata": {},
   "outputs": [
    {
     "name": "stdout",
     "output_type": "stream",
     "text": [
      "[epoch 1/100, episode 50/100] => loss: 2.69017, acc: 0.20667\n",
      "[epoch 1/100, episode 100/100] => loss: 2.62193, acc: 0.22000\n",
      "[epoch 2/100, episode 50/100] => loss: 2.51031, acc: 0.31000\n",
      "[epoch 2/100, episode 100/100] => loss: 2.45286, acc: 0.23667\n",
      "[epoch 3/100, episode 50/100] => loss: 2.42127, acc: 0.28000\n",
      "[epoch 3/100, episode 100/100] => loss: 2.26645, acc: 0.30000\n",
      "[epoch 4/100, episode 50/100] => loss: 2.38223, acc: 0.28667\n",
      "[epoch 4/100, episode 100/100] => loss: 2.24251, acc: 0.33000\n",
      "[epoch 5/100, episode 50/100] => loss: 2.38313, acc: 0.27333\n",
      "[epoch 5/100, episode 100/100] => loss: 2.31108, acc: 0.29000\n",
      "[epoch 6/100, episode 50/100] => loss: 2.47622, acc: 0.24667\n",
      "[epoch 6/100, episode 100/100] => loss: 2.10669, acc: 0.35667\n",
      "[epoch 7/100, episode 50/100] => loss: 2.18633, acc: 0.32000\n",
      "[epoch 7/100, episode 100/100] => loss: 1.98386, acc: 0.40333\n",
      "[epoch 8/100, episode 50/100] => loss: 2.14229, acc: 0.33000\n",
      "[epoch 8/100, episode 100/100] => loss: 2.06077, acc: 0.34000\n",
      "[epoch 9/100, episode 50/100] => loss: 2.04110, acc: 0.38667\n",
      "[epoch 9/100, episode 100/100] => loss: 1.95181, acc: 0.42333\n",
      "[epoch 10/100, episode 50/100] => loss: 2.02502, acc: 0.43667\n",
      "[epoch 10/100, episode 100/100] => loss: 2.13865, acc: 0.36333\n",
      "[epoch 11/100, episode 50/100] => loss: 2.01281, acc: 0.42667\n",
      "[epoch 11/100, episode 100/100] => loss: 1.91510, acc: 0.42667\n",
      "[epoch 12/100, episode 50/100] => loss: 1.90876, acc: 0.40667\n",
      "[epoch 12/100, episode 100/100] => loss: 1.98502, acc: 0.38333\n",
      "[epoch 13/100, episode 50/100] => loss: 1.50182, acc: 0.57000\n",
      "[epoch 13/100, episode 100/100] => loss: 1.93777, acc: 0.44333\n",
      "[epoch 14/100, episode 50/100] => loss: 1.77546, acc: 0.49667\n",
      "[epoch 14/100, episode 100/100] => loss: 1.94018, acc: 0.39667\n",
      "[epoch 15/100, episode 50/100] => loss: 1.86552, acc: 0.47000\n",
      "[epoch 15/100, episode 100/100] => loss: 1.65558, acc: 0.50667\n",
      "[epoch 16/100, episode 50/100] => loss: 1.63510, acc: 0.48333\n",
      "[epoch 16/100, episode 100/100] => loss: 1.58389, acc: 0.50333\n",
      "[epoch 17/100, episode 50/100] => loss: 1.80113, acc: 0.45333\n",
      "[epoch 17/100, episode 100/100] => loss: 1.72561, acc: 0.45667\n",
      "[epoch 18/100, episode 50/100] => loss: 1.59451, acc: 0.54000\n",
      "[epoch 18/100, episode 100/100] => loss: 1.32419, acc: 0.56667\n",
      "[epoch 19/100, episode 50/100] => loss: 1.79173, acc: 0.45333\n",
      "[epoch 19/100, episode 100/100] => loss: 1.59730, acc: 0.48000\n",
      "[epoch 20/100, episode 50/100] => loss: 1.37459, acc: 0.56333\n",
      "[epoch 20/100, episode 100/100] => loss: 1.64148, acc: 0.49333\n",
      "[epoch 21/100, episode 50/100] => loss: 1.56434, acc: 0.50000\n",
      "[epoch 21/100, episode 100/100] => loss: 1.55470, acc: 0.50000\n",
      "[epoch 22/100, episode 50/100] => loss: 1.65613, acc: 0.48667\n",
      "[epoch 22/100, episode 100/100] => loss: 1.78783, acc: 0.44333\n",
      "[epoch 23/100, episode 50/100] => loss: 1.51189, acc: 0.51667\n",
      "[epoch 23/100, episode 100/100] => loss: 1.41521, acc: 0.56333\n",
      "[epoch 24/100, episode 50/100] => loss: 1.17772, acc: 0.63333\n",
      "[epoch 24/100, episode 100/100] => loss: 1.46862, acc: 0.51000\n",
      "[epoch 25/100, episode 50/100] => loss: 1.41338, acc: 0.54667\n",
      "[epoch 25/100, episode 100/100] => loss: 1.72840, acc: 0.47000\n",
      "[epoch 26/100, episode 50/100] => loss: 1.35231, acc: 0.61000\n",
      "[epoch 26/100, episode 100/100] => loss: 1.62084, acc: 0.52000\n",
      "[epoch 27/100, episode 50/100] => loss: 1.53799, acc: 0.54333\n",
      "[epoch 27/100, episode 100/100] => loss: 1.51373, acc: 0.53000\n",
      "[epoch 28/100, episode 50/100] => loss: 1.51453, acc: 0.49667\n",
      "[epoch 28/100, episode 100/100] => loss: 1.55236, acc: 0.53000\n",
      "[epoch 29/100, episode 50/100] => loss: 1.38276, acc: 0.60333\n",
      "[epoch 29/100, episode 100/100] => loss: 1.51991, acc: 0.52333\n",
      "[epoch 30/100, episode 50/100] => loss: 1.31121, acc: 0.58000\n",
      "[epoch 30/100, episode 100/100] => loss: 1.44205, acc: 0.51667\n",
      "[epoch 31/100, episode 50/100] => loss: 1.40513, acc: 0.58667\n",
      "[epoch 31/100, episode 100/100] => loss: 1.34681, acc: 0.55333\n",
      "[epoch 32/100, episode 50/100] => loss: 1.09313, acc: 0.64333\n",
      "[epoch 32/100, episode 100/100] => loss: 1.22875, acc: 0.60000\n",
      "[epoch 33/100, episode 50/100] => loss: 1.28800, acc: 0.59667\n",
      "[epoch 33/100, episode 100/100] => loss: 1.24231, acc: 0.60333\n",
      "[epoch 34/100, episode 50/100] => loss: 1.54579, acc: 0.54000\n",
      "[epoch 34/100, episode 100/100] => loss: 1.58468, acc: 0.51667\n",
      "[epoch 35/100, episode 50/100] => loss: 1.19139, acc: 0.65000\n",
      "[epoch 35/100, episode 100/100] => loss: 1.13386, acc: 0.65333\n",
      "[epoch 36/100, episode 50/100] => loss: 1.13750, acc: 0.65000\n",
      "[epoch 36/100, episode 100/100] => loss: 1.12717, acc: 0.65000\n",
      "[epoch 37/100, episode 50/100] => loss: 1.14984, acc: 0.63000\n",
      "[epoch 37/100, episode 100/100] => loss: 1.41328, acc: 0.56667\n",
      "[epoch 38/100, episode 50/100] => loss: 1.17146, acc: 0.63667\n",
      "[epoch 38/100, episode 100/100] => loss: 1.25045, acc: 0.59667\n",
      "[epoch 39/100, episode 50/100] => loss: 1.23620, acc: 0.61667\n",
      "[epoch 39/100, episode 100/100] => loss: 1.28020, acc: 0.59333\n",
      "[epoch 40/100, episode 50/100] => loss: 1.21337, acc: 0.64667\n",
      "[epoch 40/100, episode 100/100] => loss: 1.08524, acc: 0.64333\n",
      "[epoch 41/100, episode 50/100] => loss: 1.39941, acc: 0.56000\n",
      "[epoch 41/100, episode 100/100] => loss: 1.10008, acc: 0.63667\n",
      "[epoch 42/100, episode 50/100] => loss: 1.15060, acc: 0.62000\n",
      "[epoch 42/100, episode 100/100] => loss: 0.98444, acc: 0.72000\n",
      "[epoch 43/100, episode 50/100] => loss: 1.04643, acc: 0.69333\n",
      "[epoch 43/100, episode 100/100] => loss: 0.91946, acc: 0.67000\n",
      "[epoch 44/100, episode 50/100] => loss: 1.37232, acc: 0.55000\n",
      "[epoch 44/100, episode 100/100] => loss: 0.88298, acc: 0.71000\n",
      "[epoch 45/100, episode 50/100] => loss: 1.27201, acc: 0.60000\n",
      "[epoch 45/100, episode 100/100] => loss: 1.04238, acc: 0.66667\n",
      "[epoch 46/100, episode 50/100] => loss: 0.90718, acc: 0.71000\n",
      "[epoch 46/100, episode 100/100] => loss: 0.95038, acc: 0.70000\n",
      "[epoch 47/100, episode 50/100] => loss: 0.90081, acc: 0.70667\n",
      "[epoch 47/100, episode 100/100] => loss: 1.20066, acc: 0.62333\n",
      "[epoch 48/100, episode 50/100] => loss: 1.12504, acc: 0.64333\n",
      "[epoch 48/100, episode 100/100] => loss: 1.07760, acc: 0.64000\n",
      "[epoch 49/100, episode 50/100] => loss: 1.09150, acc: 0.62667\n",
      "[epoch 49/100, episode 100/100] => loss: 1.03099, acc: 0.64333\n",
      "[epoch 50/100, episode 50/100] => loss: 0.97820, acc: 0.69000\n",
      "[epoch 50/100, episode 100/100] => loss: 0.98357, acc: 0.68667\n",
      "[epoch 51/100, episode 50/100] => loss: 1.14722, acc: 0.64667\n",
      "[epoch 51/100, episode 100/100] => loss: 1.02937, acc: 0.66667\n",
      "[epoch 52/100, episode 50/100] => loss: 0.79986, acc: 0.73333\n",
      "[epoch 52/100, episode 100/100] => loss: 0.92750, acc: 0.66000\n",
      "[epoch 53/100, episode 50/100] => loss: 1.11248, acc: 0.65667\n",
      "[epoch 53/100, episode 100/100] => loss: 0.83383, acc: 0.73333\n",
      "[epoch 54/100, episode 50/100] => loss: 1.07523, acc: 0.64667\n",
      "[epoch 54/100, episode 100/100] => loss: 1.08648, acc: 0.64333\n",
      "[epoch 55/100, episode 50/100] => loss: 1.01954, acc: 0.71000\n",
      "[epoch 55/100, episode 100/100] => loss: 1.29215, acc: 0.59000\n",
      "[epoch 56/100, episode 50/100] => loss: 0.94483, acc: 0.71667\n",
      "[epoch 56/100, episode 100/100] => loss: 1.19276, acc: 0.61000\n",
      "[epoch 57/100, episode 50/100] => loss: 1.17294, acc: 0.62000\n",
      "[epoch 57/100, episode 100/100] => loss: 0.89490, acc: 0.72000\n",
      "[epoch 58/100, episode 50/100] => loss: 0.84367, acc: 0.69000\n",
      "[epoch 58/100, episode 100/100] => loss: 0.75373, acc: 0.74000\n",
      "[epoch 59/100, episode 50/100] => loss: 1.38641, acc: 0.54333\n",
      "[epoch 59/100, episode 100/100] => loss: 0.89069, acc: 0.67333\n",
      "[epoch 60/100, episode 50/100] => loss: 1.02767, acc: 0.67000\n",
      "[epoch 60/100, episode 100/100] => loss: 0.92385, acc: 0.71000\n",
      "[epoch 61/100, episode 50/100] => loss: 0.93583, acc: 0.67000\n",
      "[epoch 61/100, episode 100/100] => loss: 1.00921, acc: 0.67667\n",
      "[epoch 62/100, episode 50/100] => loss: 0.95597, acc: 0.70667\n",
      "[epoch 62/100, episode 100/100] => loss: 0.92837, acc: 0.70667\n",
      "[epoch 63/100, episode 50/100] => loss: 0.94225, acc: 0.72667\n",
      "[epoch 63/100, episode 100/100] => loss: 0.96014, acc: 0.67000\n",
      "[epoch 64/100, episode 50/100] => loss: 0.99320, acc: 0.68333\n",
      "[epoch 64/100, episode 100/100] => loss: 1.10530, acc: 0.65333\n",
      "[epoch 65/100, episode 50/100] => loss: 1.25567, acc: 0.56333\n",
      "[epoch 65/100, episode 100/100] => loss: 0.91934, acc: 0.70667\n",
      "[epoch 66/100, episode 50/100] => loss: 1.01590, acc: 0.66333\n",
      "[epoch 66/100, episode 100/100] => loss: 0.95707, acc: 0.69333\n"
     ]
    },
    {
     "name": "stdout",
     "output_type": "stream",
     "text": [
      "[epoch 67/100, episode 50/100] => loss: 0.88438, acc: 0.76333\n",
      "[epoch 67/100, episode 100/100] => loss: 0.86021, acc: 0.70000\n",
      "[epoch 68/100, episode 50/100] => loss: 0.90512, acc: 0.71333\n",
      "[epoch 68/100, episode 100/100] => loss: 0.79389, acc: 0.77000\n",
      "[epoch 69/100, episode 50/100] => loss: 0.91446, acc: 0.72667\n",
      "[epoch 69/100, episode 100/100] => loss: 0.89832, acc: 0.69333\n",
      "[epoch 70/100, episode 50/100] => loss: 0.95540, acc: 0.67333\n",
      "[epoch 70/100, episode 100/100] => loss: 1.07609, acc: 0.62667\n",
      "[epoch 71/100, episode 50/100] => loss: 1.08928, acc: 0.64333\n",
      "[epoch 71/100, episode 100/100] => loss: 0.90997, acc: 0.67000\n",
      "[epoch 72/100, episode 50/100] => loss: 0.79448, acc: 0.72333\n",
      "[epoch 72/100, episode 100/100] => loss: 0.77371, acc: 0.73667\n",
      "[epoch 73/100, episode 50/100] => loss: 0.63826, acc: 0.79000\n",
      "[epoch 73/100, episode 100/100] => loss: 0.75410, acc: 0.76000\n",
      "[epoch 74/100, episode 50/100] => loss: 0.96961, acc: 0.64667\n",
      "[epoch 74/100, episode 100/100] => loss: 0.88101, acc: 0.67667\n",
      "[epoch 75/100, episode 50/100] => loss: 0.85899, acc: 0.69667\n",
      "[epoch 75/100, episode 100/100] => loss: 0.94597, acc: 0.69667\n",
      "[epoch 76/100, episode 50/100] => loss: 0.93994, acc: 0.68000\n",
      "[epoch 76/100, episode 100/100] => loss: 0.54533, acc: 0.83667\n",
      "[epoch 77/100, episode 50/100] => loss: 0.90308, acc: 0.68000\n",
      "[epoch 77/100, episode 100/100] => loss: 0.68016, acc: 0.77667\n",
      "[epoch 78/100, episode 50/100] => loss: 0.91502, acc: 0.71333\n",
      "[epoch 78/100, episode 100/100] => loss: 0.84703, acc: 0.72000\n",
      "[epoch 79/100, episode 50/100] => loss: 0.74440, acc: 0.75333\n",
      "[epoch 79/100, episode 100/100] => loss: 0.95667, acc: 0.65667\n",
      "[epoch 80/100, episode 50/100] => loss: 0.72628, acc: 0.77000\n",
      "[epoch 80/100, episode 100/100] => loss: 1.20363, acc: 0.62667\n",
      "[epoch 81/100, episode 50/100] => loss: 0.80830, acc: 0.73333\n",
      "[epoch 81/100, episode 100/100] => loss: 0.78536, acc: 0.72667\n",
      "[epoch 82/100, episode 50/100] => loss: 0.77401, acc: 0.72000\n",
      "[epoch 82/100, episode 100/100] => loss: 0.64638, acc: 0.78667\n",
      "[epoch 83/100, episode 50/100] => loss: 0.72389, acc: 0.76333\n",
      "[epoch 83/100, episode 100/100] => loss: 0.98313, acc: 0.67333\n",
      "[epoch 84/100, episode 50/100] => loss: 0.86942, acc: 0.73333\n",
      "[epoch 84/100, episode 100/100] => loss: 0.91076, acc: 0.70000\n",
      "[epoch 85/100, episode 50/100] => loss: 0.82332, acc: 0.71000\n",
      "[epoch 85/100, episode 100/100] => loss: 0.91918, acc: 0.68667\n",
      "[epoch 86/100, episode 50/100] => loss: 0.85601, acc: 0.71667\n",
      "[epoch 86/100, episode 100/100] => loss: 0.95215, acc: 0.67333\n",
      "[epoch 87/100, episode 50/100] => loss: 0.76433, acc: 0.75000\n",
      "[epoch 87/100, episode 100/100] => loss: 0.62900, acc: 0.75333\n",
      "[epoch 88/100, episode 50/100] => loss: 0.94948, acc: 0.68667\n",
      "[epoch 88/100, episode 100/100] => loss: 0.70091, acc: 0.77000\n",
      "[epoch 89/100, episode 50/100] => loss: 0.70517, acc: 0.75333\n",
      "[epoch 89/100, episode 100/100] => loss: 0.86017, acc: 0.70333\n",
      "[epoch 90/100, episode 50/100] => loss: 0.91102, acc: 0.69333\n",
      "[epoch 90/100, episode 100/100] => loss: 0.55505, acc: 0.80000\n",
      "[epoch 91/100, episode 50/100] => loss: 0.62219, acc: 0.80333\n",
      "[epoch 91/100, episode 100/100] => loss: 0.78228, acc: 0.74667\n",
      "[epoch 92/100, episode 50/100] => loss: 0.66140, acc: 0.74667\n",
      "[epoch 92/100, episode 100/100] => loss: 0.81554, acc: 0.72000\n",
      "[epoch 93/100, episode 50/100] => loss: 0.76939, acc: 0.74000\n",
      "[epoch 93/100, episode 100/100] => loss: 0.75672, acc: 0.74333\n",
      "[epoch 94/100, episode 50/100] => loss: 0.81159, acc: 0.71000\n",
      "[epoch 94/100, episode 100/100] => loss: 0.80201, acc: 0.72667\n",
      "[epoch 95/100, episode 50/100] => loss: 0.86675, acc: 0.74333\n",
      "[epoch 95/100, episode 100/100] => loss: 0.60115, acc: 0.79333\n",
      "[epoch 96/100, episode 50/100] => loss: 0.75666, acc: 0.73667\n",
      "[epoch 96/100, episode 100/100] => loss: 0.80603, acc: 0.73667\n",
      "[epoch 97/100, episode 50/100] => loss: 0.79783, acc: 0.72333\n",
      "[epoch 97/100, episode 100/100] => loss: 0.84759, acc: 0.71333\n",
      "[epoch 98/100, episode 50/100] => loss: 0.73558, acc: 0.73333\n",
      "[epoch 98/100, episode 100/100] => loss: 0.74539, acc: 0.74333\n",
      "[epoch 99/100, episode 50/100] => loss: 0.90639, acc: 0.68667\n",
      "[epoch 99/100, episode 100/100] => loss: 0.56291, acc: 0.80333\n",
      "[epoch 100/100, episode 50/100] => loss: 0.71471, acc: 0.76667\n",
      "[epoch 100/100, episode 100/100] => loss: 0.70881, acc: 0.76333\n"
     ]
    }
   ],
   "source": [
    "for ep in range(n_epochs):\n",
    "    for epi in range(n_episodes):\n",
    "        epi_classes = np.random.permutation(n_classes)[:n_way]\n",
    "        support = np.zeros([n_way, n_shot, im_height, im_width, channels], dtype=np.float32)\n",
    "        query = np.zeros([n_way, n_query, im_height, im_width, channels], dtype=np.float32)\n",
    "        for i, epi_cls in enumerate(epi_classes):\n",
    "            selected = np.random.permutation(n_examples)[:n_shot + n_query]\n",
    "            support[i] = train_dataset[epi_cls, selected[:n_shot]]\n",
    "            query[i] = train_dataset[epi_cls, selected[n_shot:]]\n",
    "        # support = np.expand_dims(support, axis=-1)\n",
    "        # query = np.expand_dims(query, axis=-1)\n",
    "        labels = np.tile(np.arange(n_way)[:, np.newaxis], (1, n_query)).astype(np.uint8)\n",
    "        _, ls, ac = sess.run([train_op, ce_loss, acc], feed_dict={x: support, q: query, y:labels})\n",
    "        if (epi+1) % 50 == 0:\n",
    "            print('[epoch {}/{}, episode {}/{}] => loss: {:.5f}, acc: {:.5f}'.format(ep+1, n_epochs, epi+1, n_episodes, ls, ac))"
   ]
  },
  {
   "cell_type": "code",
   "execution_count": 11,
   "metadata": {},
   "outputs": [
    {
     "name": "stdout",
     "output_type": "stream",
     "text": [
      "(20, 350, 84, 84, 3)\n"
     ]
    }
   ],
   "source": [
    "# Load Test Dataset\n",
    "test_dataset = np.load('mini-imagenet-test.npy')\n",
    "n_test_classes = test_dataset.shape[0]\n",
    "print(test_dataset.shape)"
   ]
  },
  {
   "cell_type": "code",
   "execution_count": 12,
   "metadata": {
    "collapsed": true
   },
   "outputs": [],
   "source": [
    "n_test_episodes = 600\n",
    "n_test_way = 5\n",
    "n_test_shot = 5\n",
    "n_test_query = 15"
   ]
  },
  {
   "cell_type": "code",
   "execution_count": 13,
   "metadata": {},
   "outputs": [
    {
     "name": "stdout",
     "output_type": "stream",
     "text": [
      "Testing...\n",
      "[test episode 50/600] => loss: 1.05772, acc: 0.58667\n",
      "[test episode 100/600] => loss: 1.33291, acc: 0.48000\n",
      "[test episode 150/600] => loss: 0.58527, acc: 0.73333\n",
      "[test episode 200/600] => loss: 0.65924, acc: 0.69333\n",
      "[test episode 250/600] => loss: 1.12209, acc: 0.52000\n",
      "[test episode 300/600] => loss: 0.97975, acc: 0.68000\n",
      "[test episode 350/600] => loss: 1.05668, acc: 0.65333\n",
      "[test episode 400/600] => loss: 0.98864, acc: 0.68000\n",
      "[test episode 450/600] => loss: 1.04565, acc: 0.65333\n",
      "[test episode 500/600] => loss: 0.72200, acc: 0.72000\n",
      "[test episode 550/600] => loss: 0.77793, acc: 0.77333\n",
      "[test episode 600/600] => loss: 0.94674, acc: 0.62667\n",
      "Average Test Accuracy: 0.61807\n"
     ]
    }
   ],
   "source": [
    "print('Testing...')\n",
    "avg_acc = 0.\n",
    "for epi in range(n_test_episodes):\n",
    "    epi_classes = np.random.permutation(n_test_classes)[:n_test_way]\n",
    "    support = np.zeros([n_test_way, n_test_shot, im_height, im_width, channels], dtype=np.float32)\n",
    "    query = np.zeros([n_test_way, n_test_query, im_height, im_width, channels], dtype=np.float32)\n",
    "    for i, epi_cls in enumerate(epi_classes):\n",
    "        selected = np.random.permutation(n_examples)[:n_test_shot + n_test_query]\n",
    "        support[i] = test_dataset[epi_cls, selected[:n_test_shot]]\n",
    "        query[i] = test_dataset[epi_cls, selected[n_test_shot:]]\n",
    "    # support = np.expand_dims(support, axis=-1)\n",
    "    # query = np.expand_dims(query, axis=-1)\n",
    "    labels = np.tile(np.arange(n_test_way)[:, np.newaxis], (1, n_test_query)).astype(np.uint8)\n",
    "    ls, ac = sess.run([ce_loss, acc], feed_dict={x: support, q: query, y:labels})\n",
    "    avg_acc += ac\n",
    "    if (epi+1) % 50 == 0:\n",
    "        print('[test episode {}/{}] => loss: {:.5f}, acc: {:.5f}'.format(epi+1, n_test_episodes, ls, ac))\n",
    "avg_acc /= n_test_episodes\n",
    "print('Average Test Accuracy: {:.5f}'.format(avg_acc))"
   ]
  },
  {
   "cell_type": "code",
   "execution_count": null,
   "metadata": {
    "collapsed": true
   },
   "outputs": [],
   "source": []
  }
 ],
 "metadata": {
  "kernelspec": {
   "display_name": "Python 2",
   "language": "python",
   "name": "python2"
  },
  "language_info": {
   "codemirror_mode": {
    "name": "ipython",
    "version": 2
   },
   "file_extension": ".py",
   "mimetype": "text/x-python",
   "name": "python",
   "nbconvert_exporter": "python",
   "pygments_lexer": "ipython2",
   "version": "2.7.14"
  }
 },
 "nbformat": 4,
 "nbformat_minor": 2
}
